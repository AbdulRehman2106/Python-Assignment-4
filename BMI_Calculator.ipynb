{
  "nbformat": 4,
  "nbformat_minor": 0,
  "metadata": {
    "colab": {
      "provenance": [],
      "authorship_tag": "ABX9TyN1oakSFNySPvsVKHo/mRp9",
      "include_colab_link": true
    },
    "kernelspec": {
      "name": "python3",
      "display_name": "Python 3"
    },
    "language_info": {
      "name": "python"
    }
  },
  "cells": [
    {
      "cell_type": "markdown",
      "metadata": {
        "id": "view-in-github",
        "colab_type": "text"
      },
      "source": [
        "<a href=\"https://colab.research.google.com/github/AbdulRehman2106/Python-Assignment-4/blob/main/BMI_Calculator.ipynb\" target=\"_parent\"><img src=\"https://colab.research.google.com/assets/colab-badge.svg\" alt=\"Open In Colab\"/></a>"
      ]
    },
    {
      "cell_type": "code",
      "execution_count": null,
      "metadata": {
        "id": "ZDCKTvXT-wQs"
      },
      "outputs": [],
      "source": [
        "import os\n",
        "import streamlit as st\n",
        "import pandas as pd\n",
        "from fpdf import FPDF\n",
        "\n",
        "st.set_page_config(page_title=\"Advanced BMI Calculator\", page_icon=\"💪\", layout=\"centered\")\n",
        "st.title(\"💪 Advanced BMI Calculator\")\n",
        "\n",
        "if \"history\" not in st.session_state:\n",
        "    st.session_state.history = []\n",
        "\n",
        "unit = st.radio(\"Select unit system:\", [\"Metric (kg/m)\", \"Imperial (lbs/ft-in)\"], horizontal=True)\n",
        "\n",
        "if unit == \"Metric (kg/m)\":\n",
        "    st.subheader(\"Enter your weight and height\")\n",
        "    weight = st.number_input(\"Weight (kg)\", min_value=1.0, step=0.1)\n",
        "    height = st.number_input(\"Height (m)\", min_value=0.1, step=0.01)\n",
        "else:\n",
        "    st.subheader(\"Enter your weight and height\")\n",
        "    weight_lbs = st.number_input(\"Weight (lbs)\", min_value=1.0, step=0.1)  # Changed step to 0.1 for consistency\n",
        "    feet = st.number_input(\"Height - feet\", min_value=0, step=1)\n",
        "    inches = st.number_input(\"Height - inches\", min_value=0, max_value=11, step=1)\n",
        "    height = ((feet * 12) + inches) * 0.0254\n",
        "    weight = weight_lbs * 0.453592\n",
        "\n",
        "if st.button(\"🧮 Calculate BMI\"):\n",
        "    if height > 0:\n",
        "        bmi = weight / (height ** 2)\n",
        "        bmi = round(bmi, 2)\n",
        "\n",
        "        if bmi < 18.5:\n",
        "            category = \"Underweight 🦴\"\n",
        "            category_color = \"blue\"\n",
        "        elif bmi < 25:\n",
        "            category = \"Normal ✅\"\n",
        "            category_color = \"lightgreen\"\n",
        "        elif bmi < 30:\n",
        "            category = \"Overweight ⚠️\"\n",
        "            category_color = \"yellow\"\n",
        "        else:\n",
        "            category = \"Obese 🔥\"\n",
        "            category_color = \"orange\"\n",
        "\n",
        "        st.markdown(f\"### 📊 Your BMI: **{bmi}**\")\n",
        "        st.markdown(f\"<div style='background-color:{category_color}; padding: 10px; border-radius: 5px;'>**Category: {category}**</div>\", unsafe_allow_html=True)\n",
        "\n",
        "        st.session_state.history.append({\n",
        "            \"Weight (kg)\": round(weight, 2),\n",
        "            \"Height (m)\": round(height, 2),\n",
        "            \"BMI\": bmi,\n",
        "            \"Category\": category\n",
        "        })\n",
        "\n",
        "        category_clean = category.encode('ascii', 'ignore').decode()\n",
        "\n",
        "        pdf = FPDF()\n",
        "        pdf.add_page()\n",
        "        pdf.set_font(\"Arial\", size=14)\n",
        "        pdf.cell(200, 10, txt=\"BMI Report\", ln=True, align=\"C\")\n",
        "        pdf.ln(10)\n",
        "        pdf.cell(200, 10, txt=f\"Weight: {weight:.2f} kg\", ln=True)\n",
        "        pdf.cell(200, 10, txt=f\"Height: {height:.2f} m\", ln=True)\n",
        "        pdf.cell(200, 10, txt=f\"BMI: {bmi}\", ln=True)\n",
        "        pdf.cell(200, 10, txt=f\"Category: {category_clean}\", ln=True)\n",
        "\n",
        "        pdf_path = os.path.join(os.getcwd(), \"bmi_report.pdf\")\n",
        "        pdf.output(pdf_path)\n",
        "\n",
        "        with open(pdf_path, \"rb\") as f:\n",
        "            st.download_button(\"⬇️ Download PDF Report\", f, file_name=\"bmi_report.pdf\", mime=\"application/pdf\")\n",
        "\n",
        "if st.session_state.history:\n",
        "    with st.expander(\"📜 BMI History (this session)\"):\n",
        "        df = pd.DataFrame(st.session_state.history)\n",
        "        st.dataframe(df, use_container_width=True)\n",
        "\n",
        "with st.expander(\"📈 BMI Categories\"):\n",
        "    st.table(pd.DataFrame({\n",
        "        \"Category\": [\"Underweight\", \"Normal\", \"Overweight\", \"Obese\"],\n",
        "        \"BMI Range\": [\"< 18.5\", \"18.5 – 24.9\", \"25 – 29.9\", \"30+\"],\n",
        "        \"Emoji\": [\"🦴\", \"✅\", \"⚠️\", \"🔥\"]\n",
        "    }))\n"
      ]
    }
  ]
}